{
 "cells": [
  {
   "cell_type": "markdown",
   "id": "2621fd87",
   "metadata": {},
   "source": [
    "# Tools for Datascience"
   ]
  },
  {
   "cell_type": "markdown",
   "id": "9e3d23df",
   "metadata": {},
   "source": [
    "Datascience tools and ecosystem"
   ]
  },
  {
   "cell_type": "markdown",
   "id": "8d0347dc",
   "metadata": {},
   "source": [
    "Languages of datascience\n",
    "1.python\n",
    "2.SQL\n",
    "3.R\n",
    "4.Scala\n",
    "5.java\n",
    "6.C++"
   ]
  },
  {
   "cell_type": "markdown",
   "id": "b1fb9f8e",
   "metadata": {},
   "source": [
    "datascience libraries\n",
    "tensorflow\n",
    "numpy\n",
    "scipy\n",
    "pandas\n",
    "keras\n",
    "matplotlib"
   ]
  },
  {
   "cell_type": "markdown",
   "id": "2f4bb6c4",
   "metadata": {},
   "source": [
    "|Tools for datascience|\n",
    "|----|\n",
    "|hadoop|\n",
    "|apache spark|\n",
    "|SAS|\n",
    "|Tensorflow|\n"
   ]
  },
  {
   "cell_type": "code",
   "execution_count": 2,
   "id": "4b8d1e02",
   "metadata": {},
   "outputs": [
    {
     "data": {
      "text/plain": [
       "10.0"
      ]
     },
     "execution_count": 2,
     "metadata": {},
     "output_type": "execute_result"
    }
   ],
   "source": [
    "#arithmethic express operation\n",
    "4*(3+2)/2"
   ]
  },
  {
   "cell_type": "code",
   "execution_count": 3,
   "id": "84f8d9c6",
   "metadata": {},
   "outputs": [
    {
     "data": {
      "text/plain": [
       "7.5"
      ]
     },
     "execution_count": 3,
     "metadata": {},
     "output_type": "execute_result"
    }
   ],
   "source": [
    "#converting a 450 to hours by didviding it by 60\n",
    "450/60"
   ]
  },
  {
   "cell_type": "markdown",
   "id": "b41d8ed7",
   "metadata": {},
   "source": [
    "__objectives__\n",
    "* listing the languages of datascience \n",
    "* listing the tools of datascience \n",
    "* listing the libraries of datascience\n",
    "* creating the markdown cell"
   ]
  },
  {
   "cell_type": "markdown",
   "id": "fd55e809",
   "metadata": {},
   "source": [
    "## AUTHOR\n",
    "GAURAV KUMAR\n"
   ]
  }
 ],
 "metadata": {
  "kernelspec": {
   "display_name": "Python 3 (ipykernel)",
   "language": "python",
   "name": "python3"
  },
  "language_info": {
   "codemirror_mode": {
    "name": "ipython",
    "version": 3
   },
   "file_extension": ".py",
   "mimetype": "text/x-python",
   "name": "python",
   "nbconvert_exporter": "python",
   "pygments_lexer": "ipython3",
   "version": "3.9.13"
  }
 },
 "nbformat": 4,
 "nbformat_minor": 5
}
